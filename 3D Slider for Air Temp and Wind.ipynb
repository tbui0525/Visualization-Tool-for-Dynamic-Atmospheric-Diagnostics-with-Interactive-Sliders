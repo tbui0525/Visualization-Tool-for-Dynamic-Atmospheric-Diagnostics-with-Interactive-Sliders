{
 "cells": [
  {
   "cell_type": "code",
   "execution_count": 5,
   "id": "aa65857d",
   "metadata": {},
   "outputs": [],
   "source": [
    "import numpy as np\n",
    "import netCDF4 as nc\n",
    "from netCDF4 import Dataset\n",
    "import matplotlib.pyplot as plt\n",
    "from ipywidgets import interact, interactive, fixed, interact_manual\n",
    "from ipywidgets.embed import embed_minimal_html\n",
    "import ipywidgets as widgets\n",
    "import os\n",
    "os.environ[\"PROJ_LIB\"] = \"C:\\\\Utilities\\\\Python\\\\Anaconda\\\\Library\\\\share\"; #fixr\n",
    "from mpl_toolkits.basemap import Basemap\n",
    "import requests"
   ]
  },
  {
   "cell_type": "code",
   "execution_count": 6,
   "id": "ffc44c63",
   "metadata": {},
   "outputs": [],
   "source": [
    "months = ['Jan', 'Feb', 'Mar', 'Apr', 'May', 'Jun', 'Jul', 'Aug','Sep', 'Oct', 'Nov', 'Dec']"
   ]
  },
  {
   "cell_type": "markdown",
   "id": "0270b5aa",
   "metadata": {},
   "source": [
    "## Downloading Files"
   ]
  },
  {
   "cell_type": "code",
   "execution_count": null,
   "id": "75f7449c",
   "metadata": {},
   "outputs": [],
   "source": [
    "os.chdir('C:/Users/tbui0/Downloads/NCEP REANALYSIS V3')"
   ]
  },
  {
   "cell_type": "code",
   "execution_count": 3,
   "id": "3847617f",
   "metadata": {},
   "outputs": [
    {
     "data": {
      "text/plain": [
       "196"
      ]
     },
     "execution_count": 3,
     "metadata": {},
     "output_type": "execute_result"
    }
   ],
   "source": [
    "url = 'https://downloads.psl.noaa.gov/Datasets/20thC_ReanV3/spreads/Monthlies/prsSI-MO/air.mon.mean.nc'\n",
    "r = requests.get(url, allow_redirects = True)\n",
    "open('air.mon.mean.nc', 'wb').write(r.content)\n",
    "url = 'https://downloads.psl.noaa.gov/Datasets/20thC_ReanV3/spreads/Monthlies/prsSI-MO/uwnd.mon.mean.nc'\n",
    "open('uwnd.mon.mean.nc', 'wb').write(r.content)\n",
    "url = 'https://downloads.psl.noaa.gov/Datasets/20thC_ReanV3/spreads/Monthlies/prsSI-MO/vwnd.mon.mean.nc'\n",
    "r = requests.get(url, allow_redirects = True)\n",
    "open('vwnd.mon.mean.nc', 'wb').write(r.content)\n",
    "url = 'https://downloads.psl.noaa.gov/Datasets/20thC_ReanV3/spreads/Monthlies/prsSI-MO/hgt.mon.mean.nc'\n",
    "r = requests.get(url, allow_redirects = True)\n",
    "open('hgt.mon.mean.nc', 'wb').write(r.content)\n"
   ]
  },
  {
   "cell_type": "markdown",
   "id": "33192917",
   "metadata": {},
   "source": [
    "# Visualization"
   ]
  },
  {
   "cell_type": "code",
   "execution_count": 11,
   "id": "eb28096e",
   "metadata": {},
   "outputs": [
    {
     "data": {
      "application/vnd.jupyter.widget-view+json": {
       "model_id": "e632ddb1141748a281096aa9ee32843d",
       "version_major": 2,
       "version_minor": 0
      },
      "text/plain": [
       "interactive(children=(Dropdown(description='Cross_Section', options=('latitudinal', 'longitudinal', 'pressure'…"
      ]
     },
     "metadata": {},
     "output_type": "display_data"
    },
    {
     "data": {
      "text/plain": [
       "<function __main__.f(Cross_Section, Variables, Year, Month, level, lat, lon, Colors)>"
      ]
     },
     "execution_count": 11,
     "metadata": {},
     "output_type": "execute_result"
    }
   ],
   "source": [
    "def f(Cross_Section, Variables, Year, Month, level, lat, lon, Colors):    \n",
    "    file = nc.Dataset(Variables +'.mon.mean.nc')\n",
    "    data = file.variables[Variables][(Year-1876)*12+Month-1]\n",
    "    lons = file.variables['lon'][:]\n",
    "    lats = file.variables['lat'][:]\n",
    "    pressure = file.variables['level'][:]\n",
    "    if Cross_Section == 'latitudinal':\n",
    "        fig = plt.figure(figsize = (20,8))\n",
    "        xx,yy = np.meshgrid(lons, pressure[0:level-1])\n",
    "        ax =plt.contourf(xx,yy, data[0:level-1, lat, :], 100,cmap = Colors, )\n",
    "        plt.title(months[Month-1]+ ' ' +str(int(Year))+ ' '+Variables + ' at Latitude ' + str(lats[lat]) +'', size = 25)\n",
    "        plt.gca().invert_yaxis()\n",
    "        plt.colorbar()\n",
    "    elif Cross_Section == 'longitudinal':\n",
    "        fig =plt.figure(figsize = (12,8))\n",
    "        xx,yy = np.meshgrid(lats, pressure[0:level-1])\n",
    "        ax =plt.contourf(xx,yy, data[ 0:level-1,:,lon],100, cmap = Colors)\n",
    "        plt.title(months[Month-1]+ ' ' +str(int(Year))+ ' '+Variables + ' at Longitude ' + str(lons[lon]) +'', size = 25)\n",
    "        plt.gca().invert_yaxis()\n",
    "        plt.colorbar()\n",
    "    else:\n",
    "        xx,yy = np.meshgrid(lons,lats)\n",
    "        ig = plt.figure(figsize =(20,8))\n",
    "        m = Basemap(projection = 'cyl', lon_0 = -180, lat_ts = 10, llcrnrlon = 0, urcrnrlon = 360, llcrnrlat = -90, urcrnrlat = 90)\n",
    "        m.pcolormesh(xx,yy, data[ level-1], shading = 'auto', cmap = Colors)\n",
    "        m.colorbar(location = 'right')\n",
    "        m.drawcoastlines()\n",
    "        m.drawmapboundary()\n",
    "        m.drawparallels(np.arange(-90,90,30), labels = [1,0,0,0])\n",
    "        m.drawmeridians(np.arange(-180,180,60), labels = [0,0,0,1])\n",
    "        plt.title(months[Month-1]+ ' ' +str(int(Year))+ ' '+Variables + ' at ' + str(pressure[level-1]) +'mbar', size = 25)\n",
    "interact(f, Cross_Section = ['latitudinal', 'longitudinal', 'pressure'], Variables = ['air','uwnd','vwnd', 'hgt'],\n",
    "            Year = (1876,2015), Month = (1,12), level = (1,28), lat = (0,180), lon = (0,359),\n",
    "            Colors = ['jet','Greys',  'coolwarm', 'rainbow', 'twilight_shifted'])"
   ]
  }
 ],
 "metadata": {
  "kernelspec": {
   "display_name": "Python 3 (ipykernel)",
   "language": "python",
   "name": "python3"
  },
  "language_info": {
   "codemirror_mode": {
    "name": "ipython",
    "version": 3
   },
   "file_extension": ".py",
   "mimetype": "text/x-python",
   "name": "python",
   "nbconvert_exporter": "python",
   "pygments_lexer": "ipython3",
   "version": "3.9.7"
  }
 },
 "nbformat": 4,
 "nbformat_minor": 5
}
